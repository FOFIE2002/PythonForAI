{
 "cells": [
  {
   "cell_type": "code",
   "execution_count": 2,
   "id": "129df0ea",
   "metadata": {},
   "outputs": [
    {
     "ename": "NameError",
     "evalue": "name 'welcome' is not defined",
     "output_type": "error",
     "traceback": [
      "\u001b[1;31m---------------------------------------------------------------------------\u001b[0m",
      "\u001b[1;31mNameError\u001b[0m                                 Traceback (most recent call last)",
      "Input \u001b[1;32mIn [2]\u001b[0m, in \u001b[0;36m<cell line: 1>\u001b[1;34m()\u001b[0m\n\u001b[1;32m----> 1\u001b[0m \u001b[43mwelcome\u001b[49m\n",
      "\u001b[1;31mNameError\u001b[0m: name 'welcome' is not defined"
     ]
    }
   ],
   "source": [
    "# Quiz 1\n",
    "welcome to udacity\n",
    "\n",
    "print welcome to udacity\n",
    "\n",
    "print(welcome to udacity)\n",
    "\n",
    "print(\"welcome to udacity\")\n",
    "\n",
    "print \"welcome to udacity\""
   ]
  },
  {
   "cell_type": "code",
   "execution_count": 5,
   "id": "494fe758",
   "metadata": {},
   "outputs": [
    {
     "name": "stdout",
     "output_type": "stream",
     "text": [
      "Two\n"
     ]
    }
   ],
   "source": [
    "# Quiz 2\n",
    "\n",
    "### print(\"One\")\n",
    "\n",
    "print(\"Two\")\n",
    "\n",
    "# \"Three\"\n",
    "\n"
   ]
  },
  {
   "cell_type": "code",
   "execution_count": 1,
   "id": "198b6f58",
   "metadata": {},
   "outputs": [
    {
     "name": "stdout",
     "output_type": "stream",
     "text": [
      "1 1 1\n",
      "1 1.5 Hello\n"
     ]
    }
   ],
   "source": [
    "### Variables\n",
    "\n",
    "number = 100\n",
    "decimal = 1.5\n",
    "name = \"John\"\n",
    "flag = True\n",
    "\n",
    "\n",
    "#Variables changing type\n",
    "x = 1\n",
    "x = 'Abdullah'\n",
    "x = True\n",
    "\n",
    "#Single value assigned to several variables\n",
    "a = b = c = 1\n",
    "\n",
    "print(a,b,c)\n",
    "# Multiple values to multiple variables\n",
    "a, b, c = 1, 1.5, 'Hello'\n",
    "print(a,b,c)\n"
   ]
  },
  {
   "cell_type": "code",
   "execution_count": 6,
   "id": "0c106892",
   "metadata": {},
   "outputs": [
    {
     "name": "stdout",
     "output_type": "stream",
     "text": [
      "1.5\n",
      "<class 'float'>\n"
     ]
    }
   ],
   "source": [
    "n = 1\n",
    "n = 1.5\n",
    "\n",
    "print(n)\n",
    "print(type(n))"
   ]
  },
  {
   "cell_type": "code",
   "execution_count": 14,
   "id": "42f57d3a",
   "metadata": {},
   "outputs": [
    {
     "name": "stdout",
     "output_type": "stream",
     "text": [
      "H\n",
      "H\n",
      "e\n",
      "e\n",
      "e\n"
     ]
    }
   ],
   "source": [
    "### Strings\n",
    "\n",
    "s = \"Hello there\"\n",
    "\n",
    "print(s[0])\n",
    "print(s[-11])\n",
    "\n",
    "print(s[-1])\n",
    "print(s[10])\n",
    "print(s[len(s)-1])\n",
    "\n"
   ]
  },
  {
   "cell_type": "code",
   "execution_count": 3,
   "id": "c9b08eb1",
   "metadata": {},
   "outputs": [
    {
     "name": "stdout",
     "output_type": "stream",
     "text": [
      "Wm  s\n",
      "esruoc siht ot emocleW\n",
      "eoiome\n"
     ]
    }
   ],
   "source": [
    "s = 'Welcome to this course'\n",
    "\n",
    "print(s[::5])\n",
    "\n",
    "print(s[-1::-1])\n",
    "\n",
    "print(s[-1::-4])\n"
   ]
  },
  {
   "cell_type": "code",
   "execution_count": 16,
   "id": "4b2550c1",
   "metadata": {},
   "outputs": [],
   "source": [
    "## List\n",
    "\n",
    "my_list = [1, 2, 3.4, 'Hello']\n",
    "\n",
    "my_list = list((1, 2, 3.4, 'Hello'))"
   ]
  },
  {
   "cell_type": "code",
   "execution_count": 17,
   "id": "fb0eb873",
   "metadata": {},
   "outputs": [],
   "source": [
    "## Set\n",
    "\n",
    "my_set = {1, 2, 3.4, 'Hello'}\n",
    "\n",
    "my_set = set((1, 2, 3.4, 'Hello'))"
   ]
  },
  {
   "cell_type": "code",
   "execution_count": 19,
   "id": "6a8af4a6",
   "metadata": {},
   "outputs": [],
   "source": [
    "## Tuples\n",
    "\n",
    "Coordinates = (20.201, 49.123)\n",
    "\n",
    "Coordinates = tuple((20.201, 49.123))"
   ]
  },
  {
   "cell_type": "code",
   "execution_count": 23,
   "id": "43c58307",
   "metadata": {},
   "outputs": [],
   "source": [
    "## Dictionary\n",
    "\n",
    "info = {\"name\":\"Abdullah\", \"id\":1, \"score\":20.5}\n",
    "\n",
    "info = dict({\"name\":\"Abdullah\", \"id\":1, \"score\":20.5})"
   ]
  },
  {
   "cell_type": "code",
   "execution_count": null,
   "id": "dfb547b7",
   "metadata": {},
   "outputs": [],
   "source": []
  }
 ],
 "metadata": {
  "kernelspec": {
   "display_name": "Python 3 (ipykernel)",
   "language": "python",
   "name": "python3"
  },
  "language_info": {
   "codemirror_mode": {
    "name": "ipython",
    "version": 3
   },
   "file_extension": ".py",
   "mimetype": "text/x-python",
   "name": "python",
   "nbconvert_exporter": "python",
   "pygments_lexer": "ipython3",
   "version": "3.9.12"
  }
 },
 "nbformat": 4,
 "nbformat_minor": 5
}
