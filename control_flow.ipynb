{
 "cells": [
  {
   "cell_type": "code",
   "execution_count": 2,
   "metadata": {},
   "outputs": [
    {
     "name": "stdout",
     "output_type": "stream",
     "text": [
      "Congratulations! You won a wafer-thin mint!\n"
     ]
    }
   ],
   "source": [
    "points = 174  # use this input to make your submission\n",
    "\n",
    "# write your if statement here\n",
    "\n",
    "result = \"\" \n",
    "\n",
    "if points >= 1 and points <= 50:\n",
    "    result = \"Congratulations! You won a wooden rabbit!\"\n",
    "elif points >= 51 and points <= 150:\n",
    "    result = \"Oh dear, no prize this time.\"\n",
    "elif points >= 151 and points <= 180:\n",
    "    result = \"Congratulations! You won a wafer-thin mint!\"\n",
    "elif points >= 181 and points <= 200:\n",
    "    result = \"Congratulations! You won a penguin!\"\n",
    "\n",
    "print(result)"
   ]
  },
  {
   "cell_type": "code",
   "execution_count": 14,
   "metadata": {},
   "outputs": [
    {
     "name": "stdout",
     "output_type": "stream",
     "text": [
      "Nice!  Your guess matched the answer!\n"
     ]
    }
   ],
   "source": [
    "# Fill in the conditionals below to inform the user about how\n",
    "# their guess compares to the answer.\n",
    "\n",
    "answer = 20 #replace 0 with a value you choose\n",
    "guess = 20 #replace 0 with a value you choose\n",
    "\n",
    "if answer < guess:\n",
    "    result = \"Oops!  Your guess was too low.\"\n",
    "elif answer > guess:\n",
    "    result = \"Oops!  Your guess was too high.\"\n",
    "else:\n",
    "    result = \"Nice!  Your guess matched the answer!\"\n",
    "    \n",
    "print(result)"
   ]
  },
  {
   "cell_type": "code",
   "execution_count": 1,
   "metadata": {},
   "outputs": [
    {
     "name": "stdout",
     "output_type": "stream",
     "text": [
      "Since you're from NY, your total cost is 0.1089.\n"
     ]
    }
   ],
   "source": [
    "state = \"NY\" #Either \"CA\", \"MN\", or \"NY\"\n",
    "purchase_amount = .10  #amount of purchase\n",
    "\n",
    "if state == \"CA\":\n",
    "    tax_amount = .075\n",
    "    total_cost = purchase_amount*(1+tax_amount)\n",
    "    result = \"Since you're from {}, your total cost is {}.\".format(state, total_cost)\n",
    "\n",
    "elif state == \"MN\":\n",
    "    tax_amount = .095\n",
    "    total_cost = purchase_amount*(1+tax_amount)\n",
    "    result = \"Since you're from {}, your total cost is {}.\".format(state, total_cost)\n",
    "\n",
    "elif state == \"NY\":\n",
    "    tax_amount = .089\n",
    "    total_cost = purchase_amount*(1+tax_amount)\n",
    "    result = f\"Since you're from {state}, your total cost is {total_cost}.\" #.format(state, total_cost)\n",
    "print(result)"
   ]
  },
  {
   "cell_type": "code",
   "execution_count": 2,
   "metadata": {},
   "outputs": [
    {
     "name": "stdout",
     "output_type": "stream",
     "text": [
      "Congratulations! You won a wafer-thin mint!\n"
     ]
    }
   ],
   "source": [
    "points = 174\n",
    "prize = None\n",
    "\n",
    "if points <= 50:\n",
    "    prize = \"wooden rabbit\"\n",
    "elif points <= 150:\n",
    "    prize = None\n",
    "elif points <= 180:\n",
    "    prize = \"wafer-thin mint\"\n",
    "else:\n",
    "    prize = \"penguin\"\n",
    "\n",
    "if prize is None:\n",
    "    result = \"Oh dear, no prize this time.\"\n",
    "else:\n",
    "    result = \"Congratulations! You won a {}!\".format(prize)\n",
    "\n",
    "print(result)\n"
   ]
  },
  {
   "cell_type": "code",
   "execution_count": 8,
   "metadata": {},
   "outputs": [
    {
     "name": "stdout",
     "output_type": "stream",
     "text": [
      "['joey_tribbiani']\n",
      "['joey_tribbiani', 'monica_geller']\n",
      "['joey_tribbiani', 'monica_geller', 'chandler_bing']\n",
      "['joey_tribbiani', 'monica_geller', 'chandler_bing', 'phoebe_buffay']\n"
     ]
    }
   ],
   "source": [
    "names = [\"Joey Tribbiani\", \"Monica Geller\", \"Chandler Bing\", \"Phoebe Buffay\"]\n",
    "usernames = []\n",
    "\n",
    "for names in names:\n",
    "    username = names.lower().replace(\" \", \"_\")\n",
    "    usernames.append(username)\n",
    "    print(usernames)\n",
    "# write your for loop here"
   ]
  },
  {
   "cell_type": "code",
   "execution_count": null,
   "metadata": {},
   "outputs": [],
   "source": [
    "usernames = [\"Joey Tribbiani\", \"Monica Geller\", \"Chandler Bing\", \"Phoebe Buffay\"]\n",
    "for i in range(len(usernames)):\n",
    "    usernames[i] = usernames[i].lower().replace(\" \", \"_\")\n",
    "    print(usernames)\n",
    "# write your for loop here"
   ]
  },
  {
   "cell_type": "code",
   "execution_count": null,
   "metadata": {},
   "outputs": [],
   "source": [
    "tokens = ['<greeting>', 'Hello World!', '</greeting>']\n",
    "count = 0\n",
    "for token in tokens:\n",
    "        if token.startswith(\"<\") and token.endswith(\">\"):\n",
    "            count += 1\n",
    "print(count)\n",
    "\n",
    "# write your for loop here"
   ]
  },
  {
   "cell_type": "code",
   "execution_count": 10,
   "metadata": {},
   "outputs": [
    {
     "name": "stdout",
     "output_type": "stream",
     "text": [
      "<ul>\n",
      "<li>first string</li>\n",
      "<li>second string</li>\n",
      "</ul>\n"
     ]
    }
   ],
   "source": [
    "items = ['first string', 'second string']\n",
    "html_str = \"<ul>\\n\"          # The \"\\n\" here is the end-of-line char, causing\n",
    "                             # chars after this in html_str to be on next line\n",
    "\n",
    "for item in items:\n",
    "    html_str += \"<li>{}</li>\\n\".format(item)\n",
    "html_str += \"</ul>\"\n",
    "\n",
    "print(html_str)"
   ]
  },
  {
   "cell_type": "code",
   "execution_count": 14,
   "metadata": {},
   "outputs": [
    {
     "name": "stdout",
     "output_type": "stream",
     "text": [
      "{'great': 1}\n",
      "{'great': 1, 'expectations': 1}\n",
      "{'great': 1, 'expectations': 1, 'the': 1}\n",
      "{'great': 1, 'expectations': 1, 'the': 1, 'adventures': 1}\n",
      "{'great': 1, 'expectations': 1, 'the': 1, 'adventures': 1, 'of': 1}\n",
      "{'great': 1, 'expectations': 1, 'the': 1, 'adventures': 1, 'of': 1, 'sherlock': 1}\n",
      "{'great': 1, 'expectations': 1, 'the': 1, 'adventures': 1, 'of': 1, 'sherlock': 1, 'holmes': 1}\n",
      "{'great': 1, 'expectations': 1, 'the': 2, 'adventures': 1, 'of': 1, 'sherlock': 1, 'holmes': 1}\n",
      "{'great': 2, 'expectations': 1, 'the': 2, 'adventures': 1, 'of': 1, 'sherlock': 1, 'holmes': 1}\n",
      "{'great': 2, 'expectations': 1, 'the': 2, 'adventures': 1, 'of': 1, 'sherlock': 1, 'holmes': 1, 'gasby': 1}\n",
      "{'great': 2, 'expectations': 1, 'the': 2, 'adventures': 1, 'of': 1, 'sherlock': 1, 'holmes': 1, 'gasby': 1, 'hamlet': 1}\n",
      "{'great': 2, 'expectations': 1, 'the': 2, 'adventures': 2, 'of': 1, 'sherlock': 1, 'holmes': 1, 'gasby': 1, 'hamlet': 1}\n",
      "{'great': 2, 'expectations': 1, 'the': 2, 'adventures': 2, 'of': 2, 'sherlock': 1, 'holmes': 1, 'gasby': 1, 'hamlet': 1}\n",
      "{'great': 2, 'expectations': 1, 'the': 2, 'adventures': 2, 'of': 2, 'sherlock': 1, 'holmes': 1, 'gasby': 1, 'hamlet': 1, 'huckleberry': 1}\n",
      "{'great': 2, 'expectations': 1, 'the': 2, 'adventures': 2, 'of': 2, 'sherlock': 1, 'holmes': 1, 'gasby': 1, 'hamlet': 1, 'huckleberry': 1, 'fin': 1}\n"
     ]
    }
   ],
   "source": [
    "book_title =  ['great', 'expectations','the', 'adventures', 'of', 'sherlock','holmes','the','great','gasby','hamlet','adventures','of','huckleberry','fin']\n",
    "word_counter = {}\n",
    "for word in book_title:\n",
    "    word_counter[word] = word_counter.get(word, 0) + 1\n",
    "    print(word_counter)"
   ]
  },
  {
   "cell_type": "code",
   "execution_count": 15,
   "metadata": {},
   "outputs": [
    {
     "name": "stdout",
     "output_type": "stream",
     "text": [
      "Jerry Seinfeld\n",
      "Julia Louis-Dreyfus\n",
      "Jason Alexander\n",
      "Michael Richards\n",
      "Actor:Jerry Seinfeld Role:Jerry Seinfeld\n",
      "Actor:Julia Louis-Dreyfus Role:Elaine Benes\n",
      "Actor:Jason Alexander Role:George Costanza\n",
      "Actor:Michael Richards Role:Cosmo Kramer\n"
     ]
    }
   ],
   "source": [
    "cast = {\n",
    "           \"Jerry Seinfeld\": \"Jerry Seinfeld\",\n",
    "           \"Julia Louis-Dreyfus\": \"Elaine Benes\",\n",
    "           \"Jason Alexander\": \"George Costanza\",\n",
    "           \"Michael Richards\": \"Cosmo Kramer\"\n",
    "       }\n",
    "for key in cast: ##prints out just the keys\n",
    "    print(key)\n",
    "for key, value in cast.items(): ##prints out both the keys and the values of the dictionary\n",
    "    print('Actor:{} Role:{}'.format(key, value))"
   ]
  }
 ],
 "metadata": {
  "kernelspec": {
   "display_name": ".venv",
   "language": "python",
   "name": "python3"
  },
  "language_info": {
   "codemirror_mode": {
    "name": "ipython",
    "version": 3
   },
   "file_extension": ".py",
   "mimetype": "text/x-python",
   "name": "python",
   "nbconvert_exporter": "python",
   "pygments_lexer": "ipython3",
   "version": "3.11.4"
  },
  "orig_nbformat": 4
 },
 "nbformat": 4,
 "nbformat_minor": 2
}
