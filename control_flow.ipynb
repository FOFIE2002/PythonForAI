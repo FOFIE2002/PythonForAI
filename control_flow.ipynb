{
 "cells": [
  {
   "cell_type": "code",
   "execution_count": 2,
   "metadata": {},
   "outputs": [
    {
     "name": "stdout",
     "output_type": "stream",
     "text": [
      "Congratulations! You won a wafer-thin mint!\n"
     ]
    }
   ],
   "source": [
    "points = 174  # use this input to make your submission\n",
    "\n",
    "# write your if statement here\n",
    "\n",
    "result = \"\" \n",
    "\n",
    "if points >= 1 and points <= 50:\n",
    "    result = \"Congratulations! You won a wooden rabbit!\"\n",
    "elif points >= 51 and points <= 150:\n",
    "    result = \"Oh dear, no prize this time.\"\n",
    "elif points >= 151 and points <= 180:\n",
    "    result = \"Congratulations! You won a wafer-thin mint!\"\n",
    "elif points >= 181 and points <= 200:\n",
    "    result = \"Congratulations! You won a penguin!\"\n",
    "\n",
    "print(result)"
   ]
  },
  {
   "cell_type": "code",
   "execution_count": 14,
   "metadata": {},
   "outputs": [
    {
     "name": "stdout",
     "output_type": "stream",
     "text": [
      "Nice!  Your guess matched the answer!\n"
     ]
    }
   ],
   "source": [
    "# Fill in the conditionals below to inform the user about how\n",
    "# their guess compares to the answer.\n",
    "\n",
    "answer = 20 #replace 0 with a value you choose\n",
    "guess = 20 #replace 0 with a value you choose\n",
    "\n",
    "if answer < guess:\n",
    "    result = \"Oops!  Your guess was too low.\"\n",
    "elif answer > guess:\n",
    "    result = \"Oops!  Your guess was too high.\"\n",
    "else:\n",
    "    result = \"Nice!  Your guess matched the answer!\"\n",
    "    \n",
    "print(result)"
   ]
  },
  {
   "cell_type": "code",
   "execution_count": 1,
   "metadata": {},
   "outputs": [
    {
     "name": "stdout",
     "output_type": "stream",
     "text": [
      "Since you're from NY, your total cost is 0.1089.\n"
     ]
    }
   ],
   "source": [
    "state = \"NY\" #Either \"CA\", \"MN\", or \"NY\"\n",
    "purchase_amount = .10  #amount of purchase\n",
    "\n",
    "if state == \"CA\":\n",
    "    tax_amount = .075\n",
    "    total_cost = purchase_amount*(1+tax_amount)\n",
    "    result = \"Since you're from {}, your total cost is {}.\".format(state, total_cost)\n",
    "\n",
    "elif state == \"MN\":\n",
    "    tax_amount = .095\n",
    "    total_cost = purchase_amount*(1+tax_amount)\n",
    "    result = \"Since you're from {}, your total cost is {}.\".format(state, total_cost)\n",
    "\n",
    "elif state == \"NY\":\n",
    "    tax_amount = .089\n",
    "    total_cost = purchase_amount*(1+tax_amount)\n",
    "    result = f\"Since you're from {state}, your total cost is {total_cost}.\" #.format(state, total_cost)\n",
    "print(result)"
   ]
  },
  {
   "cell_type": "code",
   "execution_count": 2,
   "metadata": {},
   "outputs": [
    {
     "name": "stdout",
     "output_type": "stream",
     "text": [
      "Congratulations! You won a wafer-thin mint!\n"
     ]
    }
   ],
   "source": [
    "points = 174\n",
    "prize = None\n",
    "\n",
    "if points <= 50:\n",
    "    prize = \"wooden rabbit\"\n",
    "elif points <= 150:\n",
    "    prize = None\n",
    "elif points <= 180:\n",
    "    prize = \"wafer-thin mint\"\n",
    "else:\n",
    "    prize = \"penguin\"\n",
    "\n",
    "if prize is None:\n",
    "    result = \"Oh dear, no prize this time.\"\n",
    "else:\n",
    "    result = \"Congratulations! You won a {}!\".format(prize)\n",
    "\n",
    "print(result)\n"
   ]
  },
  {
   "cell_type": "code",
   "execution_count": 8,
   "metadata": {},
   "outputs": [
    {
     "name": "stdout",
     "output_type": "stream",
     "text": [
      "['joey_tribbiani']\n",
      "['joey_tribbiani', 'monica_geller']\n",
      "['joey_tribbiani', 'monica_geller', 'chandler_bing']\n",
      "['joey_tribbiani', 'monica_geller', 'chandler_bing', 'phoebe_buffay']\n"
     ]
    }
   ],
   "source": [
    "names = [\"Joey Tribbiani\", \"Monica Geller\", \"Chandler Bing\", \"Phoebe Buffay\"]\n",
    "usernames = []\n",
    "\n",
    "for names in names:\n",
    "    username = names.lower().replace(\" \", \"_\")\n",
    "    usernames.append(username)\n",
    "    print(usernames)\n",
    "# write your for loop here"
   ]
  },
  {
   "cell_type": "code",
   "execution_count": null,
   "metadata": {},
   "outputs": [],
   "source": [
    "usernames = [\"Joey Tribbiani\", \"Monica Geller\", \"Chandler Bing\", \"Phoebe Buffay\"]\n",
    "for i in range(len(usernames)):\n",
    "    usernames[i] = usernames[i].lower().replace(\" \", \"_\")\n",
    "    print(usernames)\n",
    "# write your for loop here"
   ]
  },
  {
   "cell_type": "code",
   "execution_count": null,
   "metadata": {},
   "outputs": [],
   "source": [
    "tokens = ['<greeting>', 'Hello World!', '</greeting>']\n",
    "count = 0\n",
    "for token in tokens:\n",
    "        if token.startswith(\"<\") and token.endswith(\">\"):\n",
    "            count += 1\n",
    "print(count)\n",
    "\n",
    "# write your for loop here"
   ]
  },
  {
   "cell_type": "code",
   "execution_count": 10,
   "metadata": {},
   "outputs": [
    {
     "name": "stdout",
     "output_type": "stream",
     "text": [
      "<ul>\n",
      "<li>first string</li>\n",
      "<li>second string</li>\n",
      "</ul>\n"
     ]
    }
   ],
   "source": [
    "items = ['first string', 'second string']\n",
    "html_str = \"<ul>\\n\"          # The \"\\n\" here is the end-of-line char, causing\n",
    "                             # chars after this in html_str to be on next line\n",
    "\n",
    "for item in items:\n",
    "    html_str += \"<li>{}</li>\\n\".format(item)\n",
    "html_str += \"</ul>\"\n",
    "\n",
    "print(html_str)"
   ]
  },
  {
   "cell_type": "code",
   "execution_count": 14,
   "metadata": {},
   "outputs": [
    {
     "name": "stdout",
     "output_type": "stream",
     "text": [
      "{'great': 1}\n",
      "{'great': 1, 'expectations': 1}\n",
      "{'great': 1, 'expectations': 1, 'the': 1}\n",
      "{'great': 1, 'expectations': 1, 'the': 1, 'adventures': 1}\n",
      "{'great': 1, 'expectations': 1, 'the': 1, 'adventures': 1, 'of': 1}\n",
      "{'great': 1, 'expectations': 1, 'the': 1, 'adventures': 1, 'of': 1, 'sherlock': 1}\n",
      "{'great': 1, 'expectations': 1, 'the': 1, 'adventures': 1, 'of': 1, 'sherlock': 1, 'holmes': 1}\n",
      "{'great': 1, 'expectations': 1, 'the': 2, 'adventures': 1, 'of': 1, 'sherlock': 1, 'holmes': 1}\n",
      "{'great': 2, 'expectations': 1, 'the': 2, 'adventures': 1, 'of': 1, 'sherlock': 1, 'holmes': 1}\n",
      "{'great': 2, 'expectations': 1, 'the': 2, 'adventures': 1, 'of': 1, 'sherlock': 1, 'holmes': 1, 'gasby': 1}\n",
      "{'great': 2, 'expectations': 1, 'the': 2, 'adventures': 1, 'of': 1, 'sherlock': 1, 'holmes': 1, 'gasby': 1, 'hamlet': 1}\n",
      "{'great': 2, 'expectations': 1, 'the': 2, 'adventures': 2, 'of': 1, 'sherlock': 1, 'holmes': 1, 'gasby': 1, 'hamlet': 1}\n",
      "{'great': 2, 'expectations': 1, 'the': 2, 'adventures': 2, 'of': 2, 'sherlock': 1, 'holmes': 1, 'gasby': 1, 'hamlet': 1}\n",
      "{'great': 2, 'expectations': 1, 'the': 2, 'adventures': 2, 'of': 2, 'sherlock': 1, 'holmes': 1, 'gasby': 1, 'hamlet': 1, 'huckleberry': 1}\n",
      "{'great': 2, 'expectations': 1, 'the': 2, 'adventures': 2, 'of': 2, 'sherlock': 1, 'holmes': 1, 'gasby': 1, 'hamlet': 1, 'huckleberry': 1, 'fin': 1}\n"
     ]
    }
   ],
   "source": [
    "book_title =  ['great', 'expectations','the', 'adventures', 'of', 'sherlock','holmes','the','great','gasby','hamlet','adventures','of','huckleberry','fin']\n",
    "word_counter = {}\n",
    "for word in book_title:\n",
    "    word_counter[word] = word_counter.get(word, 0) + 1\n",
    "    print(word_counter)"
   ]
  },
  {
   "cell_type": "code",
   "execution_count": 15,
   "metadata": {},
   "outputs": [
    {
     "name": "stdout",
     "output_type": "stream",
     "text": [
      "Jerry Seinfeld\n",
      "Julia Louis-Dreyfus\n",
      "Jason Alexander\n",
      "Michael Richards\n",
      "Actor:Jerry Seinfeld Role:Jerry Seinfeld\n",
      "Actor:Julia Louis-Dreyfus Role:Elaine Benes\n",
      "Actor:Jason Alexander Role:George Costanza\n",
      "Actor:Michael Richards Role:Cosmo Kramer\n"
     ]
    }
   ],
   "source": [
    "cast = {\n",
    "           \"Jerry Seinfeld\": \"Jerry Seinfeld\",\n",
    "           \"Julia Louis-Dreyfus\": \"Elaine Benes\",\n",
    "           \"Jason Alexander\": \"George Costanza\",\n",
    "           \"Michael Richards\": \"Cosmo Kramer\"\n",
    "       }\n",
    "for key in cast: ##prints out just the keys\n",
    "    print(key)\n",
    "for key, value in cast.items(): ##prints out both the keys and the values of the dictionary\n",
    "    print('Actor:{} Role:{}'.format(key, value))"
   ]
  },
  {
   "cell_type": "code",
   "execution_count": 1,
   "metadata": {},
   "outputs": [
    {
     "name": "stdout",
     "output_type": "stream",
     "text": [
      "There are 23 fruits in the basket.\n"
     ]
    }
   ],
   "source": [
    "# You would like to count the number of fruits in your basket. \n",
    "# In order to do this, you have the following dictionary and list of\n",
    "# fruits.  Use the dictionary and list to count the total number\n",
    "# of fruits, but you do not want to count the other items in your basket.\n",
    "\n",
    "result = 0\n",
    "basket_items = {'apples': 4, 'oranges': 19, 'kites': 3, 'sandwiches': 8}\n",
    "fruits = ['apples', 'oranges', 'pears', 'peaches', 'grapes', 'bananas']\n",
    "\n",
    "for object, count in basket_items.items():\n",
    "   if object in fruits:\n",
    "       result += count\n",
    "\n",
    "print(\"There are {} fruits in the basket.\".format(result))"
   ]
  },
  {
   "cell_type": "code",
   "execution_count": 4,
   "metadata": {},
   "outputs": [
    {
     "name": "stdout",
     "output_type": "stream",
     "text": [
      "There are 23 fruits in the basket.\n",
      "There are 11 non-fruits in the basket.\n"
     ]
    }
   ],
   "source": [
    "# You would like to count the number of fruits in your basket. \n",
    "# In order to do this, you have the following dictionary and list of\n",
    "# fruits.  Use the dictionary and list to count the total number\n",
    "# of fruits and not_fruits.\n",
    "\n",
    "fruit_count, not_fruit_count = 0, 0\n",
    "basket_items = {'apples': 4, 'oranges': 19, 'kites': 3, 'sandwiches': 8}\n",
    "fruits = ['apples', 'oranges', 'pears', 'peaches', 'grapes', 'bananas']\n",
    "\n",
    "for object, count in basket_items.items():\n",
    "    if object in fruits:\n",
    "        fruit_count += count\n",
    "    else:\n",
    "        not_fruit_count += count\n",
    "\n",
    "print(\"There are {} fruits in the basket.\".format(fruit_count))\n",
    "print(\"There are {} non-fruits in the basket.\".format(not_fruit_count))\n",
    "\n",
    "\n",
    "#Iterate through the dictionary\n",
    "\n",
    "#if the key is in the list of fruits, add to fruit_count.\n",
    "\n",
    "#if the key is not in the list, then add to the not_fruit_count"
   ]
  },
  {
   "cell_type": "code",
   "execution_count": 8,
   "metadata": {},
   "outputs": [
    {
     "name": "stdout",
     "output_type": "stream",
     "text": [
      "101\n"
     ]
    }
   ],
   "source": [
    "start_num = 5 #provide some start number, replace 5 with a number you choose\n",
    "end_num = 100#provide some end number that you stop when you hit, replace 100 with a number you choose\n",
    "count_by = 2 #provide some number to count by, replace 2 with a number you choose \n",
    "break_num = start_num\n",
    "# write a while loop that uses break_num as the ongoing number to \n",
    "# check against end_num\n",
    "while break_num < end_num:\n",
    "    break_num += count_by \n",
    " #replace None with appropriate code\n",
    "print(break_num)"
   ]
  },
  {
   "cell_type": "code",
   "execution_count": 34,
   "metadata": {},
   "outputs": [
    {
     "name": "stdout",
     "output_type": "stream",
     "text": [
      "Oops!  Looks like your start value is greater than the end value.  Please try again.\n"
     ]
    }
   ],
   "source": [
    "start_num = 995 #provide some start number, replace 5 with a number you choose\n",
    "end_num = 100#provide some end number that you stop when you hit, replace 100 with a number you choose\n",
    "count_by = 2 #provide some number to count by, replace 2 with a number you choose \n",
    "\n",
    "# write a condition to check that end_num is larger than start_num before looping\n",
    "# write a while loop that uses break_num as the ongoing number to \n",
    "# check against end_num\n",
    "break_num = start_num\n",
    "if end_num < start_num:\n",
    "    result = \"Oops!  Looks like your start value is greater than the end value.  Please try again.\"\n",
    "elif end_num >= start_num:\n",
    "    while break_num < end_num:\n",
    "        break_num += count_by\n",
    "    result = break_num\n",
    " #replace None with appropriate code\n",
    " #replace None with appropriate code\n",
    "print(result)"
   ]
  },
  {
   "cell_type": "code",
   "execution_count": 16,
   "metadata": {},
   "outputs": [
    {
     "name": "stdout",
     "output_type": "stream",
     "text": [
      "36\n"
     ]
    }
   ],
   "source": [
    "limit = 40 #provide a limit, replace 40 with a number you choose\n",
    "# write your while loop here\n",
    "nearest_square = 0\n",
    "num = 1\n",
    "\n",
    "while num * num < limit:\n",
    "    nearest_square = num * num\n",
    "    num += 1\n",
    "# replace None with appropriate code\n",
    "print(nearest_square)"
   ]
  },
  {
   "cell_type": "code",
   "execution_count": 35,
   "metadata": {},
   "outputs": [
    {
     "name": "stdout",
     "output_type": "stream",
     "text": [
      "The numbers of odd numbers added are: 5\n",
      "The sum of the odd numbers added is: 993\n"
     ]
    }
   ],
   "source": [
    "num_list = [422, 136, 524, 85, 96, 719, 85, 92, 10, 17, 312, 542, 87, 23, 86, 191, 116, 35, 173, 45, 149, 59, 84, 69, 113, 166]\n",
    "\n",
    "count_odd = 0\n",
    "list_sum = 0\n",
    "i = 0\n",
    "len_num_list = len(num_list)\n",
    "\n",
    "while (count_odd < 5) and (i < len_num_list): \n",
    "    if num_list[i] % 2 != 0:\n",
    "        list_sum += num_list[i]\n",
    "        count_odd += 1\n",
    "    i += 1\n",
    "\n",
    "print (\"The numbers of odd numbers added are: {}\".format(count_odd))\n",
    "print (\"The sum of the odd numbers added is: {}\".format(list_sum))"
   ]
  },
  {
   "cell_type": "code",
   "execution_count": 36,
   "metadata": {},
   "outputs": [
    {
     "name": "stdout",
     "output_type": "stream",
     "text": [
      "METHOD 1\n",
      "current weight: 0\n",
      "  adding bananas (15)\n",
      "current weight: 15\n",
      "  adding mattresses (24)\n",
      "current weight: 39\n",
      "  adding dog kennels (42)\n",
      "current weight: 81\n",
      "  adding machine (120)\n",
      "current weight: 201\n",
      "  breaking loop now!\n",
      "\n",
      "Final Weight: 201\n",
      "Final Items: ['bananas', 'mattresses', 'dog kennels', 'machine']\n",
      "\n",
      "METHOD 2\n",
      "current weight: 0\n",
      "  adding bananas (15)\n",
      "current weight: 15\n",
      "  adding mattresses (24)\n",
      "current weight: 39\n",
      "  adding dog kennels (42)\n",
      "current weight: 81\n",
      "  skipping machine (120)\n",
      "current weight: 81\n",
      "  adding cheeses (5)\n",
      "\n",
      "Final Weight: 86\n",
      "Final Items: ['bananas', 'mattresses', 'dog kennels', 'cheeses']\n"
     ]
    }
   ],
   "source": [
    "manifest = [(\"bananas\", 15), (\"mattresses\", 24), (\"dog kennels\", 42), (\"machine\", 120), (\"cheeses\", 5)]\n",
    "\n",
    "# the code breaks the loop when weight exceeds or reaches the limit\n",
    "print(\"METHOD 1\")\n",
    "weight = 0\n",
    "items = []\n",
    "for cargo_name, cargo_weight in manifest:\n",
    "    print(\"current weight: {}\".format(weight))\n",
    "    if weight >= 100:\n",
    "        print(\"  breaking loop now!\")\n",
    "        break\n",
    "    else:\n",
    "        print(\"  adding {} ({})\".format(cargo_name, cargo_weight))\n",
    "        items.append(cargo_name)\n",
    "        weight += cargo_weight\n",
    "\n",
    "print(\"\\nFinal Weight: {}\".format(weight))\n",
    "print(\"Final Items: {}\".format(items))\n",
    "\n",
    "# skips an iteration when adding an item would exceed the limit\n",
    "# breaks the loop if weight is exactly the value of the limit\n",
    "print(\"\\nMETHOD 2\")\n",
    "weight = 0\n",
    "items = []\n",
    "for cargo_name, cargo_weight in manifest:\n",
    "    print(\"current weight: {}\".format(weight))\n",
    "    if weight >= 100:\n",
    "        print(\"  breaking from the loop now!\")\n",
    "        break\n",
    "    elif weight + cargo_weight > 100:\n",
    "        print(\"  skipping {} ({})\".format(cargo_name, cargo_weight))\n",
    "        continue\n",
    "    else:\n",
    "        print(\"  adding {} ({})\".format(cargo_name, cargo_weight))\n",
    "        items.append(cargo_name)\n",
    "        weight += cargo_weight\n",
    "\n",
    "print(\"\\nFinal Weight: {}\".format(weight))\n",
    "print(\"Final Items: {}\".format(items))"
   ]
  },
  {
   "cell_type": "code",
   "execution_count": 37,
   "metadata": {},
   "outputs": [
    {
     "name": "stdout",
     "output_type": "stream",
     "text": [
      "Local Bear Eaten by Man Legislature Announces New Laws Peasant Discovers Violence Inherent in System Cat Rescues Fireman Stuck in Tree Brave\n"
     ]
    }
   ],
   "source": [
    "# HINT: modify the headlines list to verify your loop works with different inputs\n",
    "headlines = [\"Local Bear Eaten by Man\",\n",
    "             \"Legislature Announces New Laws\",\n",
    "             \"Peasant Discovers Violence Inherent in System\",\n",
    "             \"Cat Rescues Fireman Stuck in Tree\",\n",
    "             \"Brave Knight Runs Away\",\n",
    "             \"Papperbok Review: Totally Triffic\"]\n",
    "\n",
    "news_ticker = \"\"\n",
    "for headline in headlines:\n",
    "    # Check if adding the next headline and a space will exceed the 140-character limit\n",
    "    if len(news_ticker) + len(headline) + 1 <= 140:\n",
    "        # Add the headline and a space to the news_ticker\n",
    "        news_ticker += headline + \" \"\n",
    "    else:\n",
    "        # If adding the next headline and a space will exceed the limit, truncate the headline and break out of the loop\n",
    "        remaining_chars = 140 - len(news_ticker)\n",
    "        news_ticker += headline[:remaining_chars]\n",
    "        break\n",
    "\n",
    "print(news_ticker)"
   ]
  },
  {
   "cell_type": "code",
   "execution_count": 38,
   "metadata": {},
   "outputs": [
    {
     "name": "stdout",
     "output_type": "stream",
     "text": [
      "26 is NOT a prime number, because 2 is a factor of 26\n",
      "39 is NOT a prime number, because 3 is a factor of 39\n",
      "51 is NOT a prime number, because 3 is a factor of 51\n",
      "53 IS a prime number\n",
      "57 is NOT a prime number, because 3 is a factor of 57\n",
      "79 IS a prime number\n",
      "85 is NOT a prime number, because 5 is a factor of 85\n"
     ]
    }
   ],
   "source": [
    "check_prime = [26, 39, 51, 53, 57, 79, 85]\n",
    "## iterate through the check_prime list\n",
    "for num in check_prime:\n",
    "## search for factors, iterating through numbers ranging from 2 to the number itself\n",
    "    for i in range(2, num):\n",
    "\n",
    "## number is not prime if modulo is 0\n",
    "        if (num % i) == 0:\n",
    "            print(\"{} is NOT a prime number, because {} is a factor of {}\".format(num, i, num))\n",
    "            break\n",
    "\n",
    "## otherwise keep checking until we've searched all possible factors, and then declare it prime\n",
    "        if i == num -1:    \n",
    "            print(\"{} IS a prime number\".format(num))"
   ]
  },
  {
   "cell_type": "code",
   "execution_count": 40,
   "metadata": {},
   "outputs": [
    {
     "name": "stdout",
     "output_type": "stream",
     "text": [
      "['F', 'J', 'A', 'Q', 'Y', 'B', 'W', 'X']: -5, 445 -1\n"
     ]
    }
   ],
   "source": [
    "x_coord = [23, 53, 2, -12, 95, 103, 14, -5]\n",
    "y_coord = [677, 233, 405, 433, 905, 376, 432, 445]\n",
    "z_coord = [4, 16, -6, -42, 3, -6, 23, -1]\n",
    "labels = [\"F\", \"J\", \"A\", \"Q\", \"Y\", \"B\", \"W\", \"X\"]\n",
    "points = []\n",
    "# write your for loop here\n",
    "for x_coord, y_coord, z_coord in zip(x_coord, y_coord, z_coord):\n",
    "    points.append(\"{}: {}, {} {}\".format(labels, x_coord, y_coord, z_coord))\n",
    "print(points)"
   ]
  },
  {
   "cell_type": "code",
   "execution_count": null,
   "metadata": {},
   "outputs": [],
   "source": [
    "cast_names = [\"Barney\", \"Robin\", \"Ted\", \"Lily\", \"Marshall\"]\n",
    "cast_heights = [72, 68, 72, 66, 76]\n",
    "\n",
    "cast = {} # replace with your code\n",
    "for cast_name, cast_height in zip(cast_names, cast_heights):\n",
    "    cast[cast_name] = cast_height\n",
    "print(cast)"
   ]
  },
  {
   "cell_type": "code",
   "execution_count": null,
   "metadata": {},
   "outputs": [],
   "source": [
    "cast = ((\"Barney\", 72), (\"Robin\", 68), (\"Ted\", 72), (\"Lily\", 66), (\"Marshall\", 76))\n",
    "# define names and heights here\n",
    "names, heights = zip(*cast)# replace with your code\n",
    "print(names, heights)"
   ]
  },
  {
   "cell_type": "code",
   "execution_count": null,
   "metadata": {},
   "outputs": [],
   "source": [
    "cast = [\"Barney Stinson\", \"Robin Scherbatsky\", \"Ted Mosby\", \"Lily Aldrin\", \"Marshall Eriksen\"]\n",
    "heights = [72, 68, 72, 66, 76]\n",
    "# write your for loop here\n",
    "for i, character in enumerate(cast):\n",
    "    cast[i] = f\"{character} {cast_heights[i]}\"\n",
    "    print(cast)\n",
    "# replace with your code\n",
    "# f\"{character} {cast_heights[i]}\": This creates a new string using the f-string format. #\n",
    "# It combines the character's name (character) with their corresponding height (cast_heights[i]) to create a single string.\n",
    "\n",
    "##or\n",
    "\n",
    "cast = [\"Barney Stinson\", \"Robin Scherbatsky\", \"Ted Mosby\", \"Lily Aldrin\", \"Marshall Eriksen\"]\n",
    "heights = [72, 68, 72, 66, 76]\n",
    "\n",
    "for i, character in enumerate(cast):\n",
    "    cast[i] = character + \" \" + str(heights[i])\n",
    "\n",
    "print(cast)"
   ]
  },
  {
   "cell_type": "code",
   "execution_count": 41,
   "metadata": {},
   "outputs": [
    {
     "name": "stdout",
     "output_type": "stream",
     "text": [
      "['rick', 'morty', 'summer', 'jerry', 'beth']\n"
     ]
    }
   ],
   "source": [
    "#Use a list comprehension to create a new list first_names containing just the first names in names in lowercase.\n",
    "\n",
    "names = [\"Rick Sanchez\", \"Morty Smith\", \"Summer Smith\", \"Jerry Smith\", \"Beth Smith\"]\n",
    "first_names = [name.split()[0].lower() for name in names]\n",
    "print(first_names)# write your list comprehension here\n"
   ]
  },
  {
   "cell_type": "code",
   "execution_count": null,
   "metadata": {},
   "outputs": [],
   "source": [
    "#Use a list comprehension to create a list multiples_3 containing the first 20 multiples of 3.\n",
    "\n",
    "multiples_3 = [3*i for i in range(1, 21)]\n",
    "print(multiples_3)"
   ]
  },
  {
   "cell_type": "code",
   "execution_count": null,
   "metadata": {},
   "outputs": [],
   "source": [
    "#Use a list comprehension to create a list of names passed that only include those that scored at least 65.\n",
    "\n",
    "scores = {\n",
    "             \"Rick Sanchez\": 70,\n",
    "             \"Morty Smith\": 35,\n",
    "             \"Summer Smith\": 82,\n",
    "             \"Jerry Smith\": 23,\n",
    "             \"Beth Smith\": 98\n",
    "          }\n",
    "\n",
    "passed = [name for name, score in scores.items() if score >= 65] \n",
    "print(passed)# write your list comprehension here"
   ]
  },
  {
   "cell_type": "code",
   "execution_count": 13,
   "metadata": {},
   "outputs": [
    {
     "name": "stdout",
     "output_type": "stream",
     "text": [
      "['E']\n"
     ]
    }
   ],
   "source": [
    "this_conversation = ['R', 'E']\n",
    "this_conversation.pop(0)\n",
    "print(this_conversation)"
   ]
  }
 ],
 "metadata": {
  "kernelspec": {
   "display_name": ".venv",
   "language": "python",
   "name": "python3"
  },
  "language_info": {
   "codemirror_mode": {
    "name": "ipython",
    "version": 3
   },
   "file_extension": ".py",
   "mimetype": "text/x-python",
   "name": "python",
   "nbconvert_exporter": "python",
   "pygments_lexer": "ipython3",
   "version": "3.11.4"
  },
  "orig_nbformat": 4
 },
 "nbformat": 4,
 "nbformat_minor": 2
}
