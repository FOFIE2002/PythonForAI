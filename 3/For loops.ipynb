{
 "cells": [
  {
   "cell_type": "markdown",
   "id": "372238a4",
   "metadata": {},
   "source": [
    "## Exmaple 1"
   ]
  },
  {
   "cell_type": "code",
   "execution_count": 1,
   "id": "3dae6549",
   "metadata": {},
   "outputs": [],
   "source": [
    "#Iterating through a list\n",
    "list1 = [1,2,3,4,5,6,7,8,9,10]"
   ]
  },
  {
   "cell_type": "code",
   "execution_count": 2,
   "id": "9cf91626",
   "metadata": {
    "scrolled": true
   },
   "outputs": [
    {
     "name": "stdout",
     "output_type": "stream",
     "text": [
      "1\n",
      "2\n",
      "3\n",
      "4\n",
      "5\n",
      "6\n",
      "7\n",
      "8\n",
      "9\n",
      "10\n"
     ]
    }
   ],
   "source": [
    "for number in list1: \n",
    "    print(number)"
   ]
  },
  {
   "cell_type": "markdown",
   "id": "5e6369f7",
   "metadata": {},
   "source": [
    "## Example 2"
   ]
  },
  {
   "cell_type": "code",
   "execution_count": 3,
   "id": "6f3cab89",
   "metadata": {},
   "outputs": [
    {
     "name": "stdout",
     "output_type": "stream",
     "text": [
      "1\n",
      "2\n",
      "3\n",
      "4\n",
      "5\n",
      "6\n",
      "7\n",
      "8\n",
      "9\n",
      "10\n"
     ]
    }
   ],
   "source": [
    "## Range function\n",
    "\n",
    "list1 = [1,2,3,4,5,6,7,8,9,10]\n",
    "\n",
    "\n",
    "for idx in range(len(list1)):\n",
    "    print(list1[idx])"
   ]
  },
  {
   "cell_type": "markdown",
   "id": "714b38be",
   "metadata": {},
   "source": [
    "## Example 2"
   ]
  },
  {
   "cell_type": "code",
   "execution_count": 3,
   "id": "14eb0a5d",
   "metadata": {},
   "outputs": [
    {
     "name": "stdout",
     "output_type": "stream",
     "text": [
      "1\n",
      "3\n",
      "5\n",
      "7\n",
      "9\n"
     ]
    }
   ],
   "source": [
    "list1 = [1,2,3,4,5,6,7,8,9,10]\n",
    "# Print even only\n",
    "for num in list1:\n",
    "    if num % 2 != 0:\n",
    "        print(num)"
   ]
  },
  {
   "cell_type": "markdown",
   "id": "0dded863",
   "metadata": {},
   "source": [
    "## Example 3"
   ]
  },
  {
   "cell_type": "code",
   "execution_count": 6,
   "id": "96a6b309",
   "metadata": {
    "scrolled": true
   },
   "outputs": [
    {
     "name": "stdout",
     "output_type": "stream",
     "text": [
      "T\n",
      "h\n",
      "i\n",
      "s\n",
      " \n",
      "i\n",
      "s\n",
      " \n",
      "a\n",
      " \n",
      "s\n",
      "t\n",
      "r\n",
      "i\n",
      "n\n",
      "g\n",
      ".\n"
     ]
    }
   ],
   "source": [
    "for letter in 'This is a string.':\n",
    "    print(letter)"
   ]
  },
  {
   "cell_type": "markdown",
   "id": "d5fb2da0",
   "metadata": {},
   "source": [
    "# For loop tasks"
   ]
  },
  {
   "cell_type": "code",
   "execution_count": 1,
   "id": "eb06f273",
   "metadata": {},
   "outputs": [],
   "source": [
    "# Write a program to check if the number is prime or not."
   ]
  },
  {
   "cell_type": "code",
   "execution_count": 2,
   "id": "0e53af48",
   "metadata": {},
   "outputs": [],
   "source": [
    "# Calculate the sum of all numbers from 1 to a given number (factorial)"
   ]
  },
  {
   "cell_type": "code",
   "execution_count": 3,
   "id": "33e9065d",
   "metadata": {},
   "outputs": [],
   "source": [
    "# Print list in reverse order using 2 methods\n",
    "# [1,2,3,4,5]\n"
   ]
  },
  {
   "cell_type": "code",
   "execution_count": 4,
   "id": "6950969a",
   "metadata": {},
   "outputs": [],
   "source": [
    "# Write a Python program to print the strings in a list\n",
    "# where the string length is 3 or more\n"
   ]
  },
  {
   "cell_type": "code",
   "execution_count": 13,
   "id": "564dcc29",
   "metadata": {},
   "outputs": [],
   "source": [
    "# Write a Python program to print the numbers \n",
    "# of a specified list after removing even numbers from it."
   ]
  },
  {
   "cell_type": "code",
   "execution_count": 6,
   "id": "d0964b36",
   "metadata": {},
   "outputs": [
    {
     "data": {
      "text/plain": [
       "'\\n1 \\n1 2 \\n1 2 3 \\n1 2 3 4 \\n1 2 3 4 5\\n'"
      ]
     },
     "execution_count": 6,
     "metadata": {},
     "output_type": "execute_result"
    }
   ],
   "source": [
    "'''\n",
    "Write a Python program which iterates over the following list [1, 2, 3, 4, 5, 6, 7, 8, 9, 10].\n",
    "For multiples of three print \"Fizz\" instead of the number \n",
    "and for the multiples of five print \"Buzz\". \n",
    "For numbers which are multiples of both three and five print \"FizzBuzz\".\n",
    "'''"
   ]
  },
  {
   "cell_type": "code",
   "execution_count": 9,
   "id": "7269364b",
   "metadata": {},
   "outputs": [
    {
     "name": "stdout",
     "output_type": "stream",
     "text": [
      "5\n",
      "0\n",
      "1\n",
      "1\n",
      "2\n",
      "3\n"
     ]
    }
   ],
   "source": [
    "'''\n",
    "Write a Python program to get the Fibonacci series between 0 to number given by user\n",
    "Note : The Fibonacci Sequence is the series of numbers :\n",
    "0, 1, 1, 2, 3, 5, 8, 13, 21, ....\n",
    "Every next number is found by adding up the two numbers before it.\n",
    "'''\n",
    "\n",
    "s = []\n",
    "\n",
    "s.append(0)\n",
    "s.append(1)\n",
    "\n",
    "num = int(input())\n",
    "\n",
    "print(s[0])\n",
    "print(s[1])\n",
    "\n",
    "for i in range(2, num):\n",
    "    s.append(s[i-1] + s[i-2])\n",
    "    print(s[i])"
   ]
  },
  {
   "cell_type": "code",
   "execution_count": null,
   "id": "e5bbeda2",
   "metadata": {},
   "outputs": [],
   "source": [
    "'''\n",
    "Write a Python program to check whether an alphabet is a vowel or consonant.\n",
    "Expected Output:\n",
    "\n",
    "Input a letter of the alphabet: k                                       \n",
    "k is a consonant.\n",
    "'''"
   ]
  }
 ],
 "metadata": {
  "kernelspec": {
   "display_name": "Python 3 (ipykernel)",
   "language": "python",
   "name": "python3"
  },
  "language_info": {
   "codemirror_mode": {
    "name": "ipython",
    "version": 3
   },
   "file_extension": ".py",
   "mimetype": "text/x-python",
   "name": "python",
   "nbconvert_exporter": "python",
   "pygments_lexer": "ipython3",
   "version": "3.9.12"
  }
 },
 "nbformat": 4,
 "nbformat_minor": 5
}
