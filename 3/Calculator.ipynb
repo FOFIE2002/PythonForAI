{
 "cells": [
  {
   "cell_type": "code",
   "execution_count": 1,
   "id": "3dd561ed",
   "metadata": {},
   "outputs": [],
   "source": [
    "def sum(num1, num2):\n",
    "    return num1 + num2\n",
    "\n",
    "def difference(num1, num2):\n",
    "    return num1 - num2\n",
    "\n",
    "def multiply(num1, num2):\n",
    "    return num1 * num2\n",
    "\n",
    "def divide(num1, num2):\n",
    "    if num2 == 0:\n",
    "        print('can not divide by 0')\n",
    "\n",
    "    else:\n",
    "        return num1 / num2\n",
    "\n",
    "def operation(op, num1, num2):\n",
    "    if op == '+':\n",
    "        return sum(num1, num2)\n",
    "    elif op == '-':\n",
    "        return difference(num1, num2)\n",
    "    elif op == '*':\n",
    "        return multiply(num1, num2)\n",
    "    elif op == '/':\n",
    "        return divide(num1, num2)\n",
    "    else:\n",
    "        print('Please enter a valid operation')\n",
    "\n"
   ]
  },
  {
   "cell_type": "code",
   "execution_count": 4,
   "id": "2bb45203",
   "metadata": {},
   "outputs": [],
   "source": [
    "def main():\n",
    "    print('Please enter first number')\n",
    "    x = int(input())\n",
    "\n",
    "    print('please enter second number')\n",
    "    y = int(input())\n",
    "\n",
    "    print('Please enter operation')\n",
    "    op = input()\n",
    "\n",
    "    result = operation(op, x, y)\n",
    "\n",
    "    if result:\n",
    "        print('The result is: ', result)\n",
    "\n"
   ]
  },
  {
   "cell_type": "code",
   "execution_count": 8,
   "id": "ea46bc02",
   "metadata": {},
   "outputs": [
    {
     "name": "stdout",
     "output_type": "stream",
     "text": [
      "Please enter first number\n",
      "1\n",
      "please enter second number\n",
      "2\n",
      "Please enter operation\n",
      "*\n",
      "The result is:  2\n"
     ]
    }
   ],
   "source": [
    "\n",
    "main()"
   ]
  },
  {
   "cell_type": "code",
   "execution_count": null,
   "id": "b6282400",
   "metadata": {},
   "outputs": [],
   "source": []
  }
 ],
 "metadata": {
  "kernelspec": {
   "display_name": "Python 3 (ipykernel)",
   "language": "python",
   "name": "python3"
  },
  "language_info": {
   "codemirror_mode": {
    "name": "ipython",
    "version": 3
   },
   "file_extension": ".py",
   "mimetype": "text/x-python",
   "name": "python",
   "nbconvert_exporter": "python",
   "pygments_lexer": "ipython3",
   "version": "3.9.12"
  }
 },
 "nbformat": 4,
 "nbformat_minor": 5
}
