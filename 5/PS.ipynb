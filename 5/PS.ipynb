{
 "cells": [
  {
   "cell_type": "markdown",
   "id": "363cc1c1",
   "metadata": {},
   "source": [
    "# Problem 1\n",
    "https://www.hackerrank.com/challenges/python-loops/problem?isFullScreen=true"
   ]
  },
  {
   "cell_type": "markdown",
   "id": "054c62eb",
   "metadata": {},
   "source": [
    "# Problem 2\n",
    "https://www.hackerrank.com/challenges/write-a-function/problem?isFullScreen=true"
   ]
  },
  {
   "cell_type": "markdown",
   "id": "99e92f23",
   "metadata": {},
   "source": [
    "# Problem 3\n",
    "https://www.hackerrank.com/challenges/python-string-split-and-join/problem?isFullScreen=true"
   ]
  },
  {
   "cell_type": "markdown",
   "id": "682e03c2",
   "metadata": {},
   "source": [
    "# Problem 4\n",
    "https://www.hackerrank.com/challenges/np-zeros-and-ones/problem?isFullScreen=true"
   ]
  },
  {
   "cell_type": "markdown",
   "id": "2f559f64",
   "metadata": {},
   "source": [
    "# Problem 5\n",
    "\n",
    "https://www.hackerrank.com/challenges/nested-list/problem?isFullScreen=true"
   ]
  },
  {
   "cell_type": "markdown",
   "id": "994aacb0",
   "metadata": {},
   "source": [
    "## Problem 6\n",
    "\n",
    "https://www.hackerrank.com/challenges/apple-and-orange/problem?isFullScreen=true"
   ]
  },
  {
   "cell_type": "code",
   "execution_count": null,
   "id": "b121caa0",
   "metadata": {},
   "outputs": [],
   "source": [
    "dibo222game@gmail.com\n"
   ]
  }
 ],
 "metadata": {
  "kernelspec": {
   "display_name": "Python 3 (ipykernel)",
   "language": "python",
   "name": "python3"
  },
  "language_info": {
   "codemirror_mode": {
    "name": "ipython",
    "version": 3
   },
   "file_extension": ".py",
   "mimetype": "text/x-python",
   "name": "python",
   "nbconvert_exporter": "python",
   "pygments_lexer": "ipython3",
   "version": "3.9.12"
  }
 },
 "nbformat": 4,
 "nbformat_minor": 5
}
