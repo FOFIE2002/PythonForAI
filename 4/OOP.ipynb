{
 "cells": [
  {
   "cell_type": "markdown",
   "metadata": {},
   "source": [
    "# Creating a class"
   ]
  },
  {
   "cell_type": "code",
   "execution_count": 1,
   "metadata": {
    "scrolled": true
   },
   "outputs": [
    {
     "name": "stdout",
     "output_type": "stream",
     "text": [
      "10\n"
     ]
    }
   ],
   "source": [
    "class Myclass:\n",
    "    y=10\n",
    "    \n",
    "c1 = Myclass()\n",
    "print(c1.y)"
   ]
  },
  {
   "cell_type": "markdown",
   "metadata": {},
   "source": [
    "# Creating an object"
   ]
  },
  {
   "cell_type": "code",
   "execution_count": 4,
   "metadata": {
    "scrolled": true
   },
   "outputs": [
    {
     "name": "stdout",
     "output_type": "stream",
     "text": [
      "black\n",
      "100\n"
     ]
    }
   ],
   "source": [
    "class Vehicle():\n",
    "    \n",
    "    def __init__(self, ms, c):\n",
    "        self.color = ms\n",
    "        self.maxspeed = c\n",
    "\n",
    "v1 = Vehicle(100, 'black')\n",
    "\n",
    "print(v1.maxspeed)\n",
    "print(v1.color)\n"
   ]
  },
  {
   "cell_type": "markdown",
   "metadata": {},
   "source": [
    "# Object methods"
   ]
  },
  {
   "cell_type": "code",
   "execution_count": 1,
   "metadata": {},
   "outputs": [
    {
     "name": "stdout",
     "output_type": "stream",
     "text": [
      "My name is David and my age is 30\n"
     ]
    }
   ],
   "source": [
    "class Person():\n",
    "    \n",
    "    def __init__(self, name, age):\n",
    "        self.name = name\n",
    "        self.age = age\n",
    "        \n",
    "    def show(self):\n",
    "        print(\"My name is {} and my age is {}\".format(self.name, self.age))\n",
    "\n",
    "p1 = Person('David', 30)\n",
    "\n",
    "p1.show()"
   ]
  },
  {
   "cell_type": "markdown",
   "metadata": {},
   "source": [
    "# Modifing attributes"
   ]
  },
  {
   "cell_type": "code",
   "execution_count": 2,
   "metadata": {},
   "outputs": [
    {
     "name": "stdout",
     "output_type": "stream",
     "text": [
      "My name is David and my age is 30\n",
      "My name is Mariam and my age is 30\n"
     ]
    }
   ],
   "source": [
    "class Person():\n",
    "    \n",
    "    def __init__(self, name, age):\n",
    "        self.name = name\n",
    "        self.age = age\n",
    "        \n",
    "    def show_person(self):\n",
    "        print(\"My name is {} and my age is {}\".format(self.name, self.age))\n",
    "\n",
    "p1 = Person('David', 30)\n",
    "p1.show()\n",
    "\n",
    "p1.name = 'Salma'\n",
    "p1.show()"
   ]
  },
  {
   "cell_type": "markdown",
   "metadata": {},
   "source": [
    "# Inheritance"
   ]
  },
  {
   "cell_type": "code",
   "execution_count": 8,
   "metadata": {},
   "outputs": [],
   "source": [
    "class Person():\n",
    "    \n",
    "    def __init__(self, name, age):\n",
    "        self.name = name\n",
    "        self.age = age\n",
    "        \n",
    "    def show_person(self):\n",
    "        print(\"My name is {} and my age is {}\".format(self.name, self.age))\n",
    "        \n",
    "class Student(Person):\n",
    "    \n",
    "    def __init__(self, uni):\n",
    "        self.uni = uni\n",
    "        \n",
    "    def show_student(self):\n",
    "        print(\"I got to {}\".format(self.uni))"
   ]
  },
  {
   "cell_type": "code",
   "execution_count": 9,
   "metadata": {},
   "outputs": [
    {
     "name": "stdout",
     "output_type": "stream",
     "text": [
      "I got to MIT\n"
     ]
    }
   ],
   "source": [
    "s1 = Student('MIT')\n",
    "s1.show_student()"
   ]
  },
  {
   "cell_type": "markdown",
   "metadata": {},
   "source": [
    "# Super"
   ]
  },
  {
   "cell_type": "code",
   "execution_count": 10,
   "metadata": {},
   "outputs": [],
   "source": [
    "class Person():\n",
    "    \n",
    "    def __init__(self, name, age):\n",
    "        self.name = name\n",
    "        self.age = age\n",
    "        \n",
    "    def show_person(self):\n",
    "        print(\"My name is {} and my age is {}\".format(self.name, self.age))\n",
    "        \n",
    "class Student(Person):\n",
    "    \n",
    "    def __init__(self, name, age, uni):\n",
    "        super().__init__(name, age)\n",
    "        self.uni = uni\n",
    "        \n",
    "    def show_student(self):\n",
    "        print(\"My name is {} and my age is {} and i got to {}\".format(self.name, self.age, self.uni))"
   ]
  },
  {
   "cell_type": "code",
   "execution_count": 12,
   "metadata": {},
   "outputs": [
    {
     "name": "stdout",
     "output_type": "stream",
     "text": [
      "My name is David and my age is 30 and i got to MIT\n"
     ]
    }
   ],
   "source": [
    "s1 = Student('David', 30, 'MIT')\n",
    "s1.show_student()"
   ]
  }
 ],
 "metadata": {
  "kernelspec": {
   "display_name": "Python 3 (ipykernel)",
   "language": "python",
   "name": "python3"
  },
  "language_info": {
   "codemirror_mode": {
    "name": "ipython",
    "version": 3
   },
   "file_extension": ".py",
   "mimetype": "text/x-python",
   "name": "python",
   "nbconvert_exporter": "python",
   "pygments_lexer": "ipython3",
   "version": "3.9.12"
  }
 },
 "nbformat": 4,
 "nbformat_minor": 2
}
