{
 "cells": [
  {
   "cell_type": "markdown",
   "id": "242930b7",
   "metadata": {},
   "source": [
    "## 1. Import numpy as np and see the version"
   ]
  },
  {
   "cell_type": "code",
   "execution_count": null,
   "id": "5c29406a",
   "metadata": {},
   "outputs": [],
   "source": []
  },
  {
   "cell_type": "markdown",
   "id": "67bec350",
   "metadata": {},
   "source": [
    "## 2. How to create a boolean array?\n",
    "\n",
    "Q. Create a 3×3 numpy array of all True’s"
   ]
  },
  {
   "cell_type": "code",
   "execution_count": null,
   "id": "ad648ae7",
   "metadata": {},
   "outputs": [],
   "source": []
  },
  {
   "cell_type": "markdown",
   "id": "3fdb7ab9",
   "metadata": {},
   "source": [
    "## 3. How to replace items that satisfy a condition with another value in numpy array?\n",
    "\n",
    "Q. Replace all odd numbers in arr with -1\n",
    "\n",
    "</br>\n",
    "</br>\n",
    "\n",
    "Input:\n",
    "</br>\n",
    "\n",
    "`\n",
    "arr = np.array([0, 1, 2, 3, 4, 5, 6, 7, 8, 9])\n",
    "`\n",
    "\n",
    "</br>\n",
    "</br>\n",
    "\n",
    "Desired output:\n",
    "</br>\n",
    "\n",
    "`\n",
    "#>  array([ 0, -1,  2, -1,  4, -1,  6, -1,  8, -1])\n",
    "`"
   ]
  },
  {
   "cell_type": "code",
   "execution_count": null,
   "id": "bf9bf889",
   "metadata": {},
   "outputs": [],
   "source": []
  },
  {
   "cell_type": "markdown",
   "id": "65ed4b74",
   "metadata": {},
   "source": [
    "## 4. How to reshape an array?\n",
    "Q. Convert a 1D array to a 2D array with 2 rows\n",
    "\n",
    "</br>\n",
    "</br>\n",
    "\n",
    "Input:\n",
    "</br>\n",
    "\n",
    "`\n",
    "arr = np.arange(10)\n",
    "`\n",
    "\n",
    "</br>\n",
    "</br>\n",
    "\n",
    "Desired output:\n",
    "</br>\n",
    "\n",
    "`\n",
    "#> array([[0, 1, 2, 3, 4],\n",
    "#>        [5, 6, 7, 8, 9]])\n",
    "`"
   ]
  },
  {
   "cell_type": "code",
   "execution_count": null,
   "id": "9bc63f10",
   "metadata": {},
   "outputs": [],
   "source": []
  },
  {
   "cell_type": "markdown",
   "id": "2362762d",
   "metadata": {},
   "source": [
    "## 5. How to get the positions of top n values from a numpy array?\n",
    "Q. Get the top 5 maximum values in a given array a.\n",
    "</br>\n",
    "</br>\n",
    "\n",
    "Input:\n",
    "</br>\n",
    "\n",
    "`\n",
    "arr = np.array([9, 3, 19, 26, 1, 97, 2, 14, 44, 120])\n",
    "`\n",
    "\n",
    "</br>\n",
    "</br>\n",
    "\n",
    "Desired output:\n",
    "</br>\n",
    "\n",
    "`\n",
    "#> array([120,97, 44, 26, 19])\n",
    "`"
   ]
  },
  {
   "cell_type": "code",
   "execution_count": null,
   "id": "3bbb7c8a",
   "metadata": {},
   "outputs": [],
   "source": []
  },
  {
   "cell_type": "markdown",
   "id": "79c7bb0e",
   "metadata": {},
   "source": [
    "## 6. How to compare two arrays using indexing?\n",
    "Q. How to get array of equal values comparing two other arrays?\n",
    "</br>\n",
    "</br>\n",
    "\n",
    "Input:\n",
    "</br>\n",
    "\n",
    "`\n",
    "a = np.array([5, 0, 2, 1, 4, 3])\n",
    "b = np.array([6, 0, 4, 1, 9, 3 ])\n",
    "`\n",
    "\n",
    "</br>\n",
    "</br>\n",
    "\n",
    "Desired output:\n",
    "</br>\n",
    "\n",
    "`\n",
    "#> array([0, 1, 3])\n",
    "`"
   ]
  },
  {
   "cell_type": "code",
   "execution_count": null,
   "id": "5c271e62",
   "metadata": {},
   "outputs": [],
   "source": []
  },
  {
   "cell_type": "code",
   "execution_count": null,
   "id": "31dcf0da",
   "metadata": {},
   "outputs": [],
   "source": []
  }
 ],
 "metadata": {
  "kernelspec": {
   "display_name": "Python 3 (ipykernel)",
   "language": "python",
   "name": "python3"
  },
  "language_info": {
   "codemirror_mode": {
    "name": "ipython",
    "version": 3
   },
   "file_extension": ".py",
   "mimetype": "text/x-python",
   "name": "python",
   "nbconvert_exporter": "python",
   "pygments_lexer": "ipython3",
   "version": "3.9.12"
  }
 },
 "nbformat": 4,
 "nbformat_minor": 5
}
